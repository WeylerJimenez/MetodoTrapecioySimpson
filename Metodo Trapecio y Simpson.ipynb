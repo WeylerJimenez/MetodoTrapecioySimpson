{
 "cells": [
  {
   "cell_type": "markdown",
   "metadata": {},
   "source": [
    "# Metodo de Trapecio"
   ]
  },
  {
   "cell_type": "code",
   "execution_count": 17,
   "metadata": {},
   "outputs": [
    {
     "name": "stdout",
     "output_type": "stream",
     "text": [
      "La integral es:  0.7842407666178159\n"
     ]
    }
   ],
   "source": [
    "import math\n",
    "def ecuacion(x):\n",
    "    y=2/(pow(x,2)+4)\n",
    "    return (y)\n",
    "a=0\n",
    "b=2\n",
    "n=6\n",
    "h=(b-a)/n\n",
    "i=a+1\n",
    "suma=0\n",
    "while i < (n):\n",
    "    \n",
    "    xa=(a+i*h)\n",
    "    suma=suma+ecuacion(xa)\n",
    "    i=i+1\n",
    "  \n",
    "sumatotal=(2*suma)+(ecuacion(a))+(ecuacion(a+n*h))\n",
    "\n",
    "integral=(h/2)*sumatotal\n",
    "print (\"La integral es: \",integral)"
   ]
  },
  {
   "cell_type": "markdown",
   "metadata": {},
   "source": [
    "# Con compression"
   ]
  },
  {
   "cell_type": "code",
   "execution_count": 20,
   "metadata": {},
   "outputs": [],
   "source": [
    "import math\n",
    "def ecuacion(x):\n",
    "    y=2/(pow(x,2)+4)\n",
    "    return (y)"
   ]
  },
  {
   "cell_type": "code",
   "execution_count": 21,
   "metadata": {},
   "outputs": [],
   "source": [
    "#Generamos un arreglo con las comprenssion de python\n",
    "#devuelve un arreglo []\n",
    "def arregloEvaluacion(n,a,h):\n",
    "    aevaluaciones = [ecuacion(a+i*h) for i in range(n+1)]\n",
    "    return aevaluaciones\n"
   ]
  },
  {
   "cell_type": "code",
   "execution_count": 27,
   "metadata": {},
   "outputs": [],
   "source": [
    "#afxi = arregloEvaluacion(n)\n",
    "def trapecio(afxi,n,h):\n",
    "#print (afxi)\n",
    "    sumap=sum([afxi[i] for i in range(1,n)])  \n",
    "    #print (sumap)\n",
    "    resultado=(h/2)*(afxi[0]+2*sumap+afxi[n])\n",
    "    #print(\"El resultado es: \",resultado)\n",
    "    return resultado"
   ]
  },
  {
   "cell_type": "code",
   "execution_count": 28,
   "metadata": {},
   "outputs": [],
   "source": [
    "#afxi = arregloEvaluacion(n)\n",
    "def simpson(afxi,n,h):\n",
    "  sumap = sum( [afxi[i] for i in range(1,n) if i%2==0])\n",
    "  sumaip = sum( [afxi[i] for i in range(1,n) if i%2!=0])\n",
    "  resultado =(h/3) * (afxi[0] + 2*sumap + 4 * sumaip +afxi[n])\n",
    "  #print(\"El resultado es:\",resultado)\n",
    "  return resultado "
   ]
  },
  {
   "cell_type": "code",
   "execution_count": 29,
   "metadata": {},
   "outputs": [],
   "source": [
    "def principal():\n",
    "  n=int(input(\"Numero de intervalos\"))\n",
    "  a=float(input(\"Limite inferior\"))\n",
    "  b=float(input(\"Limite superior\"))\n",
    "  h=(b-a)/n\n",
    "    \n",
    "  afxi = arregloEvaluacion(n,a,h)\n",
    "  rsimpson = simpson(afxi,n,h)\n",
    "  rtrapecio = trapecio(afxi,n,h)\n",
    "  print(\"Resultados\",\"Simpson\",rsimpson,\"Trapecio\",rtrapecio, sep=\" : \",end=\"\\n\")"
   ]
  },
  {
   "cell_type": "code",
   "execution_count": 30,
   "metadata": {},
   "outputs": [
    {
     "name": "stdout",
     "output_type": "stream",
     "text": [
      "Numero de intervalos6\n",
      "Limite inferior0\n",
      "Limite superior2\n",
      "Resultados : Simpson : 0.7853979452340107 : Trapecio : 0.7842407666178159\n"
     ]
    }
   ],
   "source": [
    "principal()"
   ]
  },
  {
   "cell_type": "code",
   "execution_count": null,
   "metadata": {},
   "outputs": [],
   "source": []
  }
 ],
 "metadata": {
  "kernelspec": {
   "display_name": "Python 3",
   "language": "python",
   "name": "python3"
  },
  "language_info": {
   "codemirror_mode": {
    "name": "ipython",
    "version": 3
   },
   "file_extension": ".py",
   "mimetype": "text/x-python",
   "name": "python",
   "nbconvert_exporter": "python",
   "pygments_lexer": "ipython3",
   "version": "3.8.5"
  }
 },
 "nbformat": 4,
 "nbformat_minor": 4
}
